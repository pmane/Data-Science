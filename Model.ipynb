{
 "cells": [
  {
   "cell_type": "code",
   "execution_count": 1,
   "metadata": {},
   "outputs": [],
   "source": [
    "import numpy as np\n",
    "import pandas as pd\n",
    "from sklearn import metrics\n",
    "import matplotlib.pyplot as plt\n",
    "import seaborn as sns\n",
    "from sklearn.model_selection import cross_val_score\n",
    "from sklearn.linear_model import LogisticRegression\n",
    "from statsmodels.stats.outliers_influence import variance_inflation_factor \n",
    "from sklearn.preprocessing import StandardScaler,MinMaxScaler,RobustScaler\n",
    "from sklearn.feature_selection import RFE\n",
    "import scikitplot as skplt #to make things easy\n"
   ]
  },
  {
   "cell_type": "code",
   "execution_count": 2,
   "metadata": {},
   "outputs": [
    {
     "name": "stdout",
     "output_type": "stream",
     "text": [
      "There are 1509 number of days in the dataset.\n"
     ]
    }
   ],
   "source": [
    "filename = 'EquitiesData_NSEI_Enrich.xlsx'\n",
    "data=pd.read_excel(filename)\n",
    "print('There are {} number of days in the dataset.'.format(data.shape[0]))"
   ]
  },
  {
   "cell_type": "code",
   "execution_count": 3,
   "metadata": {},
   "outputs": [
    {
     "data": {
      "text/html": [
       "<div>\n",
       "<style scoped>\n",
       "    .dataframe tbody tr th:only-of-type {\n",
       "        vertical-align: middle;\n",
       "    }\n",
       "\n",
       "    .dataframe tbody tr th {\n",
       "        vertical-align: top;\n",
       "    }\n",
       "\n",
       "    .dataframe thead th {\n",
       "        text-align: right;\n",
       "    }\n",
       "</style>\n",
       "<table border=\"1\" class=\"dataframe\">\n",
       "  <thead>\n",
       "    <tr style=\"text-align: right;\">\n",
       "      <th></th>\n",
       "      <th>Adj Close</th>\n",
       "      <th>Volume</th>\n",
       "      <th>SMA_5</th>\n",
       "      <th>SMA_10</th>\n",
       "      <th>SMA_15</th>\n",
       "      <th>SMA_30</th>\n",
       "      <th>SMA_90</th>\n",
       "      <th>SMA_100</th>\n",
       "      <th>EMA_5</th>\n",
       "      <th>EMA_10</th>\n",
       "      <th>...</th>\n",
       "      <th>RSI_100</th>\n",
       "      <th>ATR_14</th>\n",
       "      <th>ROC_12</th>\n",
       "      <th>Williams_14</th>\n",
       "      <th>momentum_5</th>\n",
       "      <th>momentum_10</th>\n",
       "      <th>momentum_15</th>\n",
       "      <th>slowk</th>\n",
       "      <th>slowd</th>\n",
       "      <th>Class</th>\n",
       "    </tr>\n",
       "  </thead>\n",
       "  <tbody>\n",
       "    <tr>\n",
       "      <th>0</th>\n",
       "      <td>5049.950195</td>\n",
       "      <td>0</td>\n",
       "      <td>5087.350000</td>\n",
       "      <td>5070.025000</td>\n",
       "      <td>4993.633301</td>\n",
       "      <td>4996.300000</td>\n",
       "      <td>5221.944982</td>\n",
       "      <td>5252.119478</td>\n",
       "      <td>5076.106435</td>\n",
       "      <td>5053.912546</td>\n",
       "      <td>...</td>\n",
       "      <td>45.738464</td>\n",
       "      <td>106.370019</td>\n",
       "      <td>5.821282</td>\n",
       "      <td>-25.526719</td>\n",
       "      <td>-82.349609</td>\n",
       "      <td>161.900391</td>\n",
       "      <td>34.500000</td>\n",
       "      <td>55.391650</td>\n",
       "      <td>57.756099</td>\n",
       "      <td>False</td>\n",
       "    </tr>\n",
       "    <tr>\n",
       "      <th>1</th>\n",
       "      <td>5098.350098</td>\n",
       "      <td>0</td>\n",
       "      <td>5083.370020</td>\n",
       "      <td>5081.900000</td>\n",
       "      <td>5003.973307</td>\n",
       "      <td>4997.596663</td>\n",
       "      <td>5217.476649</td>\n",
       "      <td>5248.371978</td>\n",
       "      <td>5083.520989</td>\n",
       "      <td>5061.992101</td>\n",
       "      <td>...</td>\n",
       "      <td>46.188046</td>\n",
       "      <td>105.607854</td>\n",
       "      <td>7.304323</td>\n",
       "      <td>-14.320454</td>\n",
       "      <td>-19.899902</td>\n",
       "      <td>118.750000</td>\n",
       "      <td>155.100098</td>\n",
       "      <td>48.003753</td>\n",
       "      <td>52.755043</td>\n",
       "      <td>True</td>\n",
       "    </tr>\n",
       "    <tr>\n",
       "      <th>2</th>\n",
       "      <td>5191.600098</td>\n",
       "      <td>0</td>\n",
       "      <td>5114.190039</td>\n",
       "      <td>5103.625000</td>\n",
       "      <td>5026.779980</td>\n",
       "      <td>5005.756673</td>\n",
       "      <td>5214.633317</td>\n",
       "      <td>5244.367979</td>\n",
       "      <td>5119.547359</td>\n",
       "      <td>5085.557191</td>\n",
       "      <td>...</td>\n",
       "      <td>47.041968</td>\n",
       "      <td>107.025164</td>\n",
       "      <td>6.210049</td>\n",
       "      <td>-4.127639</td>\n",
       "      <td>154.100098</td>\n",
       "      <td>217.250000</td>\n",
       "      <td>342.100098</td>\n",
       "      <td>59.615616</td>\n",
       "      <td>54.337006</td>\n",
       "      <td>True</td>\n",
       "    </tr>\n",
       "    <tr>\n",
       "      <th>3</th>\n",
       "      <td>5360.700195</td>\n",
       "      <td>0</td>\n",
       "      <td>5158.500098</td>\n",
       "      <td>5129.755029</td>\n",
       "      <td>5066.016667</td>\n",
       "      <td>5019.748340</td>\n",
       "      <td>5214.232764</td>\n",
       "      <td>5242.471479</td>\n",
       "      <td>5199.931638</td>\n",
       "      <td>5135.583192</td>\n",
       "      <td>...</td>\n",
       "      <td>48.537816</td>\n",
       "      <td>114.244802</td>\n",
       "      <td>7.653227</td>\n",
       "      <td>-7.242340</td>\n",
       "      <td>221.550293</td>\n",
       "      <td>261.300293</td>\n",
       "      <td>588.550293</td>\n",
       "      <td>80.700836</td>\n",
       "      <td>62.773402</td>\n",
       "      <td>False</td>\n",
       "    </tr>\n",
       "    <tr>\n",
       "      <th>4</th>\n",
       "      <td>5326.600098</td>\n",
       "      <td>0</td>\n",
       "      <td>5205.440137</td>\n",
       "      <td>5154.630029</td>\n",
       "      <td>5104.370020</td>\n",
       "      <td>5030.216683</td>\n",
       "      <td>5213.790544</td>\n",
       "      <td>5240.569980</td>\n",
       "      <td>5242.154458</td>\n",
       "      <td>5170.313539</td>\n",
       "      <td>...</td>\n",
       "      <td>48.260151</td>\n",
       "      <td>109.377323</td>\n",
       "      <td>7.081327</td>\n",
       "      <td>-14.121519</td>\n",
       "      <td>234.700195</td>\n",
       "      <td>248.750000</td>\n",
       "      <td>575.300293</td>\n",
       "      <td>86.057438</td>\n",
       "      <td>75.457963</td>\n",
       "      <td>False</td>\n",
       "    </tr>\n",
       "  </tbody>\n",
       "</table>\n",
       "<p>5 rows × 38 columns</p>\n",
       "</div>"
      ],
      "text/plain": [
       "     Adj Close  Volume        SMA_5       SMA_10       SMA_15       SMA_30  \\\n",
       "0  5049.950195       0  5087.350000  5070.025000  4993.633301  4996.300000   \n",
       "1  5098.350098       0  5083.370020  5081.900000  5003.973307  4997.596663   \n",
       "2  5191.600098       0  5114.190039  5103.625000  5026.779980  5005.756673   \n",
       "3  5360.700195       0  5158.500098  5129.755029  5066.016667  5019.748340   \n",
       "4  5326.600098       0  5205.440137  5154.630029  5104.370020  5030.216683   \n",
       "\n",
       "        SMA_90      SMA_100        EMA_5       EMA_10  ...    RSI_100  \\\n",
       "0  5221.944982  5252.119478  5076.106435  5053.912546  ...  45.738464   \n",
       "1  5217.476649  5248.371978  5083.520989  5061.992101  ...  46.188046   \n",
       "2  5214.633317  5244.367979  5119.547359  5085.557191  ...  47.041968   \n",
       "3  5214.232764  5242.471479  5199.931638  5135.583192  ...  48.537816   \n",
       "4  5213.790544  5240.569980  5242.154458  5170.313539  ...  48.260151   \n",
       "\n",
       "       ATR_14    ROC_12  Williams_14  momentum_5  momentum_10  momentum_15  \\\n",
       "0  106.370019  5.821282   -25.526719  -82.349609   161.900391    34.500000   \n",
       "1  105.607854  7.304323   -14.320454  -19.899902   118.750000   155.100098   \n",
       "2  107.025164  6.210049    -4.127639  154.100098   217.250000   342.100098   \n",
       "3  114.244802  7.653227    -7.242340  221.550293   261.300293   588.550293   \n",
       "4  109.377323  7.081327   -14.121519  234.700195   248.750000   575.300293   \n",
       "\n",
       "       slowk      slowd  Class  \n",
       "0  55.391650  57.756099  False  \n",
       "1  48.003753  52.755043   True  \n",
       "2  59.615616  54.337006   True  \n",
       "3  80.700836  62.773402  False  \n",
       "4  86.057438  75.457963  False  \n",
       "\n",
       "[5 rows x 38 columns]"
      ]
     },
     "execution_count": 3,
     "metadata": {},
     "output_type": "execute_result"
    }
   ],
   "source": [
    "data = data.drop(['Date'], axis=1)\n",
    "data.head()"
   ]
  },
  {
   "cell_type": "code",
   "execution_count": 4,
   "metadata": {},
   "outputs": [
    {
     "data": {
      "text/plain": [
       "(1509, 38)"
      ]
     },
     "execution_count": 4,
     "metadata": {},
     "output_type": "execute_result"
    }
   ],
   "source": [
    "data.shape"
   ]
  },
  {
   "cell_type": "code",
   "execution_count": 5,
   "metadata": {},
   "outputs": [],
   "source": [
    "#Scale or normalize the data \n",
    "sc = MinMaxScaler()\n",
    "data = sc.fit_transform(data)"
   ]
  },
  {
   "cell_type": "code",
   "execution_count": 6,
   "metadata": {},
   "outputs": [],
   "source": [
    "#Separate dependent and independent variables. In this case get y as the price direction.\n",
    "X = data[:,0:37]\n",
    "y = data[:,37:]"
   ]
  },
  {
   "cell_type": "code",
   "execution_count": 7,
   "metadata": {},
   "outputs": [],
   "source": [
    "#Split up our test and train \n",
    "\n",
    "cut = 1211\n",
    "\n",
    "X_train=X[0:cut]\n",
    "X_test=X[cut:]\n",
    "y_train=y[0:cut]\n",
    "y_test=y[cut:]"
   ]
  },
  {
   "cell_type": "code",
   "execution_count": 8,
   "metadata": {},
   "outputs": [],
   "source": [
    "#Create simple logistic model \n",
    "LRL1=LogisticRegression(penalty='l1',solver='liblinear',max_iter=1000) #L1 penalization"
   ]
  },
  {
   "cell_type": "code",
   "execution_count": 9,
   "metadata": {},
   "outputs": [
    {
     "name": "stderr",
     "output_type": "stream",
     "text": [
      "C:\\Users\\prashant\\anaconda3\\lib\\site-packages\\sklearn\\utils\\validation.py:760: DataConversionWarning: A column-vector y was passed when a 1d array was expected. Please change the shape of y to (n_samples, ), for example using ravel().\n",
      "  y = column_or_1d(y, warn=True)\n"
     ]
    },
    {
     "data": {
      "text/plain": [
       "LogisticRegression(C=1.0, class_weight=None, dual=False, fit_intercept=True,\n",
       "                   intercept_scaling=1, l1_ratio=None, max_iter=1000,\n",
       "                   multi_class='auto', n_jobs=None, penalty='l1',\n",
       "                   random_state=None, solver='liblinear', tol=0.0001, verbose=0,\n",
       "                   warm_start=False)"
      ]
     },
     "execution_count": 9,
     "metadata": {},
     "output_type": "execute_result"
    }
   ],
   "source": [
    "#Fit the model\n",
    "LRL1.fit(X_train,y_train)"
   ]
  },
  {
   "cell_type": "code",
   "execution_count": 10,
   "metadata": {},
   "outputs": [],
   "source": [
    "#Predict\n",
    "y_pred_LRL1=LRL1.predict(X_test)"
   ]
  },
  {
   "cell_type": "code",
   "execution_count": 11,
   "metadata": {},
   "outputs": [],
   "source": [
    "#mehod to asses the model\n",
    "def asses(LR,X_test, y_test, y_pred , model_name) :\n",
    "    print(LR.coef_)\n",
    "    print(\"Accuracy:\",metrics.accuracy_score(y_test, y_pred))\n",
    "    print(\"Precision:\",metrics.precision_score(y_test, y_pred))\n",
    "    print(\"Recall:\",metrics.recall_score(y_test, y_pred))\n",
    "    cnf_matrix = metrics.confusion_matrix(y_test, y_pred)\n",
    "    print(\" CNF matrix :\")\n",
    "    print(cnf_matrix)\n",
    "    ROC(LR,X_test, y_test, y_pred,model_name)\n",
    "    plotcnf(cnf_matrix,model_name)"
   ]
  },
  {
   "cell_type": "code",
   "execution_count": 12,
   "metadata": {},
   "outputs": [],
   "source": [
    "#Plot ROC curve\n",
    "def ROC(logreg,X_test, y_test, y_pred,model_name):\n",
    "    y_pred_proba_1 = logreg.predict_proba(X_test)[::,1]\n",
    "    auc = metrics.roc_auc_score(y_test, y_pred_proba_1)\n",
    "    print(model_name + \"  auc:\" + str(auc))\n"
   ]
  },
  {
   "cell_type": "code",
   "execution_count": 13,
   "metadata": {},
   "outputs": [],
   "source": [
    "#Plot cnf matrix\n",
    "def plotcnf(cnf_matrix , model_name):\n",
    "    class_names=[0,1] # name  of classes\n",
    "    fig, ax = plt.subplots()\n",
    "    tick_marks = np.arange(len(class_names))\n",
    "    plt.xticks(tick_marks, class_names)\n",
    "    plt.yticks(tick_marks, class_names)\n",
    "    # create heatmap\n",
    "    sns.heatmap(pd.DataFrame(cnf_matrix), annot=True, cmap=\"YlGnBu\" ,fmt='g')\n",
    "    ax.xaxis.set_label_position(\"top\")\n",
    "    plt.tight_layout()\n",
    "    plt.title('Confusion matrix - ' + model_name , y=1.1)\n",
    "    plt.ylabel('Actual label')\n",
    "    plt.xlabel('Predicted label')\n",
    "    #https://www.datacamp.com/community/tutorials/understanding-logistic-regression-python"
   ]
  },
  {
   "cell_type": "code",
   "execution_count": 14,
   "metadata": {},
   "outputs": [
    {
     "name": "stdout",
     "output_type": "stream",
     "text": [
      "L1 penality---------------------------------------------------\n",
      "[[ 0.          0.63581405 -0.25028572 -0.36313528  0.          0.\n",
      "   0.          0.          0.          0.          0.          0.\n",
      "   0.          0.          0.         -0.11942414  0.          0.\n",
      "   0.25737053  0.          0.          0.         -0.14738224  0.24819846\n",
      "   0.         -0.69947913 -0.10860521  0.          0.          0.07989564\n",
      "   0.          0.63420464  0.22155778  0.          0.          0.\n",
      "  -0.52091853]]\n",
      "Accuracy: 0.5704697986577181\n",
      "Precision: 0.25\n",
      "Recall: 0.007936507936507936\n",
      " CNF matrix :\n",
      "[[169   3]\n",
      " [125   1]]\n",
      "Model with no L1 penality  auc:0.5612772240679217\n"
     ]
    },
    {
     "data": {
      "image/png": "[encoded data removed]",
      "text/plain": [
       "<Figure size 432x288 with 2 Axes>"
      ]
     },
     "metadata": {
      "needs_background": "light"
     },
     "output_type": "display_data"
    }
   ],
   "source": [
    "print (\"L1 penality---------------------------------------------------\")\n",
    "asses(LRL1,X_test, y_test, y_pred_LRL1,\"Model with no L1 penality\")"
   ]
  }
 ],
 "metadata": {
  "kernelspec": {
   "display_name": "Python 3",
   "language": "python",
   "name": "python3"
  },
  "language_info": {
   "codemirror_mode": {
    "name": "ipython",
    "version": 3
   },
   "file_extension": ".py",
   "mimetype": "text/x-python",
   "name": "python",
   "nbconvert_exporter": "python",
   "pygments_lexer": "ipython3",
   "version": "3.7.6"
  }
 },
 "nbformat": 4,
 "nbformat_minor": 4
}
